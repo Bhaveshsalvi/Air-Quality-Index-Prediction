{
 "cells": [
  {
   "cell_type": "code",
   "execution_count": 14,
   "metadata": {},
   "outputs": [],
   "source": [
    "import os\n",
    "import time\n",
    "import requests\n",
    "import sys"
   ]
  },
  {
   "cell_type": "code",
   "execution_count": null,
   "metadata": {},
   "outputs": [],
   "source": [
    "os. chdir('D:\\Air Quality Index Prediction')"
   ]
  },
  {
   "cell_type": "code",
   "execution_count": 15,
   "metadata": {},
   "outputs": [
    {
     "name": "stdout",
     "output_type": "stream",
     "text": [
      "total time taken is 138.80233192443848\n"
     ]
    }
   ],
   "source": [
    "def retrive_html():\n",
    "    for year in range(2013,2019):\n",
    "        for month in range(1,13):\n",
    "            if month < 10:\n",
    "                url = 'http://en.tutiempo.net/climate/0{}-{}/ws-421820.html'.format(month,year)\n",
    "            else:\n",
    "                url = 'http://en.tutiempo.net/climate/{}-{}/ws-421820.html'.format(month,year)\n",
    "          \n",
    "            texts=requests.get(url)\n",
    "            texts_utf = texts.text.encode('utf-8')\n",
    "        \n",
    "            if not os.path.exists(\"/data/Html_Data/{}\".format(year)):\n",
    "                os.makedirs(\"/data/Html_Data/{}\".format(year))\n",
    "            with open(\"/data/Html_Data/{}/{}.html\".format(year,month), \"wb\") as output:\n",
    "                output.write(texts_utf)\n",
    "                        \n",
    "        sys.stdout.flush()\n",
    "       \n",
    "if __name__ == \"__main__\":\n",
    "    start_time = time.time()\n",
    "    retrive_html()\n",
    "    end_time = time.time()\n",
    "    print(\"total time taken is {}\".format(end_time-start_time)) \n",
    "    "
   ]
  }
 ],
 "metadata": {
  "kernelspec": {
   "display_name": "Python 3",
   "language": "python",
   "name": "python3"
  },
  "language_info": {
   "codemirror_mode": {
    "name": "ipython",
    "version": 3
   },
   "file_extension": ".py",
   "mimetype": "text/x-python",
   "name": "python",
   "nbconvert_exporter": "python",
   "pygments_lexer": "ipython3",
   "version": "3.7.3"
  }
 },
 "nbformat": 4,
 "nbformat_minor": 4
}
